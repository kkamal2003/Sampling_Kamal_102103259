{
 "cells": [
  {
   "cell_type": "code",
   "execution_count": 1,
   "id": "17c2e955",
   "metadata": {
    "_cell_guid": "b1076dfc-b9ad-4769-8c92-a6c4dae69d19",
    "_uuid": "8f2839f25d086af736a60e9eeb907d3b93b6e0e5",
    "execution": {
     "iopub.execute_input": "2024-01-31T14:49:42.979938Z",
     "iopub.status.busy": "2024-01-31T14:49:42.979156Z",
     "iopub.status.idle": "2024-01-31T14:49:43.857713Z",
     "shell.execute_reply": "2024-01-31T14:49:43.856616Z"
    },
    "papermill": {
     "duration": 0.886732,
     "end_time": "2024-01-31T14:49:43.860212",
     "exception": false,
     "start_time": "2024-01-31T14:49:42.973480",
     "status": "completed"
    },
    "tags": []
   },
   "outputs": [],
   "source": [
    "import pandas as pd\n",
    "import numpy as np"
   ]
  },
  {
   "cell_type": "code",
   "execution_count": 2,
   "id": "c057dbb3",
   "metadata": {
    "execution": {
     "iopub.execute_input": "2024-01-31T14:49:43.869317Z",
     "iopub.status.busy": "2024-01-31T14:49:43.868817Z",
     "iopub.status.idle": "2024-01-31T14:49:45.063011Z",
     "shell.execute_reply": "2024-01-31T14:49:45.061916Z"
    },
    "papermill": {
     "duration": 1.201254,
     "end_time": "2024-01-31T14:49:45.065496",
     "exception": false,
     "start_time": "2024-01-31T14:49:43.864242",
     "status": "completed"
    },
    "tags": []
   },
   "outputs": [],
   "source": [
    "import warnings\n",
    "from sklearn.exceptions import ConvergenceWarning\n",
    "warnings.filterwarnings(\"ignore\", category=ConvergenceWarning)"
   ]
  },
  {
   "cell_type": "code",
   "execution_count": 3,
   "id": "d3ccb8e4",
   "metadata": {
    "execution": {
     "iopub.execute_input": "2024-01-31T14:49:45.073559Z",
     "iopub.status.busy": "2024-01-31T14:49:45.073184Z",
     "iopub.status.idle": "2024-01-31T14:49:45.114139Z",
     "shell.execute_reply": "2024-01-31T14:49:45.113040Z"
    },
    "papermill": {
     "duration": 0.048299,
     "end_time": "2024-01-31T14:49:45.117042",
     "exception": false,
     "start_time": "2024-01-31T14:49:45.068743",
     "status": "completed"
    },
    "tags": []
   },
   "outputs": [],
   "source": [
    "df = pd.read_csv('/kaggle/input/creditcard-data/Creditcard_data.csv')"
   ]
  },
  {
   "cell_type": "code",
   "execution_count": 4,
   "id": "18fb5f76",
   "metadata": {
    "execution": {
     "iopub.execute_input": "2024-01-31T14:49:45.125222Z",
     "iopub.status.busy": "2024-01-31T14:49:45.124820Z",
     "iopub.status.idle": "2024-01-31T14:49:45.159962Z",
     "shell.execute_reply": "2024-01-31T14:49:45.158887Z"
    },
    "papermill": {
     "duration": 0.041757,
     "end_time": "2024-01-31T14:49:45.162187",
     "exception": false,
     "start_time": "2024-01-31T14:49:45.120430",
     "status": "completed"
    },
    "tags": []
   },
   "outputs": [
    {
     "data": {
      "text/html": [
       "<div>\n",
       "<style scoped>\n",
       "    .dataframe tbody tr th:only-of-type {\n",
       "        vertical-align: middle;\n",
       "    }\n",
       "\n",
       "    .dataframe tbody tr th {\n",
       "        vertical-align: top;\n",
       "    }\n",
       "\n",
       "    .dataframe thead th {\n",
       "        text-align: right;\n",
       "    }\n",
       "</style>\n",
       "<table border=\"1\" class=\"dataframe\">\n",
       "  <thead>\n",
       "    <tr style=\"text-align: right;\">\n",
       "      <th></th>\n",
       "      <th>Time</th>\n",
       "      <th>V1</th>\n",
       "      <th>V2</th>\n",
       "      <th>V3</th>\n",
       "      <th>V4</th>\n",
       "      <th>V5</th>\n",
       "      <th>V6</th>\n",
       "      <th>V7</th>\n",
       "      <th>V8</th>\n",
       "      <th>V9</th>\n",
       "      <th>...</th>\n",
       "      <th>V21</th>\n",
       "      <th>V22</th>\n",
       "      <th>V23</th>\n",
       "      <th>V24</th>\n",
       "      <th>V25</th>\n",
       "      <th>V26</th>\n",
       "      <th>V27</th>\n",
       "      <th>V28</th>\n",
       "      <th>Amount</th>\n",
       "      <th>Class</th>\n",
       "    </tr>\n",
       "  </thead>\n",
       "  <tbody>\n",
       "    <tr>\n",
       "      <th>0</th>\n",
       "      <td>0</td>\n",
       "      <td>-1.359807</td>\n",
       "      <td>-0.072781</td>\n",
       "      <td>2.536347</td>\n",
       "      <td>1.378155</td>\n",
       "      <td>-0.338321</td>\n",
       "      <td>0.462388</td>\n",
       "      <td>0.239599</td>\n",
       "      <td>0.098698</td>\n",
       "      <td>0.363787</td>\n",
       "      <td>...</td>\n",
       "      <td>-0.018307</td>\n",
       "      <td>0.277838</td>\n",
       "      <td>-0.110474</td>\n",
       "      <td>0.066928</td>\n",
       "      <td>0.128539</td>\n",
       "      <td>-0.189115</td>\n",
       "      <td>0.133558</td>\n",
       "      <td>-0.021053</td>\n",
       "      <td>149.62</td>\n",
       "      <td>0</td>\n",
       "    </tr>\n",
       "    <tr>\n",
       "      <th>1</th>\n",
       "      <td>0</td>\n",
       "      <td>1.191857</td>\n",
       "      <td>0.266151</td>\n",
       "      <td>0.166480</td>\n",
       "      <td>0.448154</td>\n",
       "      <td>0.060018</td>\n",
       "      <td>-0.082361</td>\n",
       "      <td>-0.078803</td>\n",
       "      <td>0.085102</td>\n",
       "      <td>-0.255425</td>\n",
       "      <td>...</td>\n",
       "      <td>-0.225775</td>\n",
       "      <td>-0.638672</td>\n",
       "      <td>0.101288</td>\n",
       "      <td>-0.339846</td>\n",
       "      <td>0.167170</td>\n",
       "      <td>0.125895</td>\n",
       "      <td>-0.008983</td>\n",
       "      <td>0.014724</td>\n",
       "      <td>2.69</td>\n",
       "      <td>1</td>\n",
       "    </tr>\n",
       "    <tr>\n",
       "      <th>2</th>\n",
       "      <td>1</td>\n",
       "      <td>-1.358354</td>\n",
       "      <td>-1.340163</td>\n",
       "      <td>1.773209</td>\n",
       "      <td>0.379780</td>\n",
       "      <td>-0.503198</td>\n",
       "      <td>1.800499</td>\n",
       "      <td>0.791461</td>\n",
       "      <td>0.247676</td>\n",
       "      <td>-1.514654</td>\n",
       "      <td>...</td>\n",
       "      <td>0.247998</td>\n",
       "      <td>0.771679</td>\n",
       "      <td>0.909412</td>\n",
       "      <td>-0.689281</td>\n",
       "      <td>-0.327642</td>\n",
       "      <td>-0.139097</td>\n",
       "      <td>-0.055353</td>\n",
       "      <td>-0.059752</td>\n",
       "      <td>378.66</td>\n",
       "      <td>0</td>\n",
       "    </tr>\n",
       "    <tr>\n",
       "      <th>3</th>\n",
       "      <td>1</td>\n",
       "      <td>-0.966272</td>\n",
       "      <td>-0.185226</td>\n",
       "      <td>1.792993</td>\n",
       "      <td>-0.863291</td>\n",
       "      <td>-0.010309</td>\n",
       "      <td>1.247203</td>\n",
       "      <td>0.237609</td>\n",
       "      <td>0.377436</td>\n",
       "      <td>-1.387024</td>\n",
       "      <td>...</td>\n",
       "      <td>-0.108300</td>\n",
       "      <td>0.005274</td>\n",
       "      <td>-0.190321</td>\n",
       "      <td>-1.175575</td>\n",
       "      <td>0.647376</td>\n",
       "      <td>-0.221929</td>\n",
       "      <td>0.062723</td>\n",
       "      <td>0.061458</td>\n",
       "      <td>123.50</td>\n",
       "      <td>0</td>\n",
       "    </tr>\n",
       "    <tr>\n",
       "      <th>4</th>\n",
       "      <td>2</td>\n",
       "      <td>-1.158233</td>\n",
       "      <td>0.877737</td>\n",
       "      <td>1.548718</td>\n",
       "      <td>0.403034</td>\n",
       "      <td>-0.407193</td>\n",
       "      <td>0.095921</td>\n",
       "      <td>0.592941</td>\n",
       "      <td>-0.270533</td>\n",
       "      <td>0.817739</td>\n",
       "      <td>...</td>\n",
       "      <td>-0.009431</td>\n",
       "      <td>0.798278</td>\n",
       "      <td>-0.137458</td>\n",
       "      <td>0.141267</td>\n",
       "      <td>-0.206010</td>\n",
       "      <td>0.502292</td>\n",
       "      <td>0.219422</td>\n",
       "      <td>0.215153</td>\n",
       "      <td>69.99</td>\n",
       "      <td>0</td>\n",
       "    </tr>\n",
       "  </tbody>\n",
       "</table>\n",
       "<p>5 rows × 31 columns</p>\n",
       "</div>"
      ],
      "text/plain": [
       "   Time        V1        V2        V3        V4        V5        V6        V7  \\\n",
       "0     0 -1.359807 -0.072781  2.536347  1.378155 -0.338321  0.462388  0.239599   \n",
       "1     0  1.191857  0.266151  0.166480  0.448154  0.060018 -0.082361 -0.078803   \n",
       "2     1 -1.358354 -1.340163  1.773209  0.379780 -0.503198  1.800499  0.791461   \n",
       "3     1 -0.966272 -0.185226  1.792993 -0.863291 -0.010309  1.247203  0.237609   \n",
       "4     2 -1.158233  0.877737  1.548718  0.403034 -0.407193  0.095921  0.592941   \n",
       "\n",
       "         V8        V9  ...       V21       V22       V23       V24       V25  \\\n",
       "0  0.098698  0.363787  ... -0.018307  0.277838 -0.110474  0.066928  0.128539   \n",
       "1  0.085102 -0.255425  ... -0.225775 -0.638672  0.101288 -0.339846  0.167170   \n",
       "2  0.247676 -1.514654  ...  0.247998  0.771679  0.909412 -0.689281 -0.327642   \n",
       "3  0.377436 -1.387024  ... -0.108300  0.005274 -0.190321 -1.175575  0.647376   \n",
       "4 -0.270533  0.817739  ... -0.009431  0.798278 -0.137458  0.141267 -0.206010   \n",
       "\n",
       "        V26       V27       V28  Amount  Class  \n",
       "0 -0.189115  0.133558 -0.021053  149.62      0  \n",
       "1  0.125895 -0.008983  0.014724    2.69      1  \n",
       "2 -0.139097 -0.055353 -0.059752  378.66      0  \n",
       "3 -0.221929  0.062723  0.061458  123.50      0  \n",
       "4  0.502292  0.219422  0.215153   69.99      0  \n",
       "\n",
       "[5 rows x 31 columns]"
      ]
     },
     "execution_count": 4,
     "metadata": {},
     "output_type": "execute_result"
    }
   ],
   "source": [
    "df.head()"
   ]
  },
  {
   "cell_type": "code",
   "execution_count": 5,
   "id": "1597e2a4",
   "metadata": {
    "execution": {
     "iopub.execute_input": "2024-01-31T14:49:45.171634Z",
     "iopub.status.busy": "2024-01-31T14:49:45.170632Z",
     "iopub.status.idle": "2024-01-31T14:49:45.740588Z",
     "shell.execute_reply": "2024-01-31T14:49:45.739433Z"
    },
    "papermill": {
     "duration": 0.576902,
     "end_time": "2024-01-31T14:49:45.742912",
     "exception": false,
     "start_time": "2024-01-31T14:49:45.166010",
     "status": "completed"
    },
    "tags": []
   },
   "outputs": [
    {
     "data": {
      "image/png": "[encoded data removed]",
      "text/plain": [
       "<Figure size 640x480 with 1 Axes>"
      ]
     },
     "metadata": {},
     "output_type": "display_data"
    }
   ],
   "source": [
    "import matplotlib.pyplot as plt\n",
    "import seaborn as sns\n",
    "\n",
    "sns.countplot(x = 'Class',data = df)\n",
    "plt.show()"
   ]
  },
  {
   "cell_type": "code",
   "execution_count": 6,
   "id": "6144f01a",
   "metadata": {
    "execution": {
     "iopub.execute_input": "2024-01-31T14:49:45.752568Z",
     "iopub.status.busy": "2024-01-31T14:49:45.752186Z",
     "iopub.status.idle": "2024-01-31T14:49:46.687939Z",
     "shell.execute_reply": "2024-01-31T14:49:46.686691Z"
    },
    "papermill": {
     "duration": 0.943691,
     "end_time": "2024-01-31T14:49:46.690587",
     "exception": false,
     "start_time": "2024-01-31T14:49:45.746896",
     "status": "completed"
    },
    "tags": []
   },
   "outputs": [],
   "source": [
    "from imblearn.under_sampling import RandomUnderSampler\n",
    "from imblearn.over_sampling import RandomOverSampler, SMOTE\n",
    "from imblearn.over_sampling import BorderlineSMOTE\n",
    "from imblearn.over_sampling import ADASYN \n",
    "\n",
    "X = df.drop(\"Class\", axis=1)\n",
    "y = df[\"Class\"]\n",
    "\n",
    "rus = RandomUnderSampler(random_state=42)\n",
    "ros = RandomOverSampler(random_state=42)\n",
    "smote = SMOTE(random_state=42)\n",
    "bs = BorderlineSMOTE(random_state = 42)\n",
    "ad = ADASYN(random_state=42)\n",
    "\n",
    "X_rus, y_rus = rus.fit_resample(X, y)\n",
    "df_rus = pd.concat([X_rus, y_rus], axis=1)\n",
    "df_rus.to_csv(\"data_rus.csv\", index=False)\n",
    "\n",
    "X_ros, y_ros = ros.fit_resample(X, y)\n",
    "df_ros = pd.concat([X_ros, y_ros], axis=1)\n",
    "df_ros.to_csv(\"data_ros.csv\", index=False)\n",
    "\n",
    "X_smote, y_smote = smote.fit_resample(X, y)\n",
    "df_smote = pd.concat([X_smote, y_smote], axis=1)\n",
    "df_smote.to_csv(\"data_smote.csv\", index=False)\n",
    "\n",
    "X_bs, y_bs = bs.fit_resample(X, y)\n",
    "df_bs = pd.concat([X_bs, y_bs], axis=1)\n",
    "df_bs.to_csv(\"data_bs.csv\", index=False)\n",
    "\n",
    "X_ad, y_ad = ad.fit_resample(X, y)\n",
    "df_ad = pd.concat([X_ad, y_ad], axis=1)\n",
    "df_ad.to_csv(\"data_ad.csv\", index=False)"
   ]
  },
  {
   "cell_type": "code",
   "execution_count": 7,
   "id": "008acbcb",
   "metadata": {
    "execution": {
     "iopub.execute_input": "2024-01-31T14:49:46.700216Z",
     "iopub.status.busy": "2024-01-31T14:49:46.699802Z",
     "iopub.status.idle": "2024-01-31T14:49:46.704914Z",
     "shell.execute_reply": "2024-01-31T14:49:46.703834Z"
    },
    "papermill": {
     "duration": 0.012576,
     "end_time": "2024-01-31T14:49:46.707194",
     "exception": false,
     "start_time": "2024-01-31T14:49:46.694618",
     "status": "completed"
    },
    "tags": []
   },
   "outputs": [],
   "source": [
    "from sklearn.linear_model import LogisticRegression\n",
    "from sklearn.tree import DecisionTreeClassifier\n",
    "from sklearn.ensemble import RandomForestClassifier\n",
    "from sklearn.svm import SVC\n",
    "from sklearn.ensemble import GradientBoostingClassifier\n",
    "from sklearn.model_selection import train_test_split\n",
    "from sklearn.metrics import accuracy_score"
   ]
  },
  {
   "cell_type": "code",
   "execution_count": 8,
   "id": "56da136b",
   "metadata": {
    "execution": {
     "iopub.execute_input": "2024-01-31T14:49:46.716641Z",
     "iopub.status.busy": "2024-01-31T14:49:46.716292Z",
     "iopub.status.idle": "2024-01-31T14:49:54.278970Z",
     "shell.execute_reply": "2024-01-31T14:49:54.277916Z"
    },
    "papermill": {
     "duration": 7.570039,
     "end_time": "2024-01-31T14:49:54.281296",
     "exception": false,
     "start_time": "2024-01-31T14:49:46.711257",
     "status": "completed"
    },
    "tags": []
   },
   "outputs": [
    {
     "data": {
      "text/html": [
       "<div>\n",
       "<style scoped>\n",
       "    .dataframe tbody tr th:only-of-type {\n",
       "        vertical-align: middle;\n",
       "    }\n",
       "\n",
       "    .dataframe tbody tr th {\n",
       "        vertical-align: top;\n",
       "    }\n",
       "\n",
       "    .dataframe thead th {\n",
       "        text-align: right;\n",
       "    }\n",
       "</style>\n",
       "<table border=\"1\" class=\"dataframe\">\n",
       "  <thead>\n",
       "    <tr style=\"text-align: right;\">\n",
       "      <th></th>\n",
       "      <th>Sampling</th>\n",
       "      <th>Classifier</th>\n",
       "      <th>Accuracy</th>\n",
       "    </tr>\n",
       "  </thead>\n",
       "  <tbody>\n",
       "    <tr>\n",
       "      <th>0</th>\n",
       "      <td>RandomUnderSampler</td>\n",
       "      <td>LogisticRegression</td>\n",
       "      <td>0.918301</td>\n",
       "    </tr>\n",
       "    <tr>\n",
       "      <th>1</th>\n",
       "      <td>RandomUnderSampler</td>\n",
       "      <td>DecisionTreeClassifier</td>\n",
       "      <td>0.993464</td>\n",
       "    </tr>\n",
       "    <tr>\n",
       "      <th>2</th>\n",
       "      <td>RandomUnderSampler</td>\n",
       "      <td>RandomForestClassifier</td>\n",
       "      <td>1.000000</td>\n",
       "    </tr>\n",
       "    <tr>\n",
       "      <th>3</th>\n",
       "      <td>RandomUnderSampler</td>\n",
       "      <td>SVC</td>\n",
       "      <td>0.669935</td>\n",
       "    </tr>\n",
       "    <tr>\n",
       "      <th>4</th>\n",
       "      <td>RandomUnderSampler</td>\n",
       "      <td>GradientBoostingClassifier</td>\n",
       "      <td>1.000000</td>\n",
       "    </tr>\n",
       "  </tbody>\n",
       "</table>\n",
       "</div>"
      ],
      "text/plain": [
       "             Sampling                  Classifier  Accuracy\n",
       "0  RandomUnderSampler          LogisticRegression  0.918301\n",
       "1  RandomUnderSampler      DecisionTreeClassifier  0.993464\n",
       "2  RandomUnderSampler      RandomForestClassifier  1.000000\n",
       "3  RandomUnderSampler                         SVC  0.669935\n",
       "4  RandomUnderSampler  GradientBoostingClassifier  1.000000"
      ]
     },
     "execution_count": 8,
     "metadata": {},
     "output_type": "execute_result"
    }
   ],
   "source": [
    "datasets = [\"/kaggle/working/data_ros.csv\",\n",
    "           \"/kaggle/working/data_rus.csv\",\n",
    "           \"/kaggle/working/data_smote.csv\",\n",
    "           \"/kaggle/working/data_bs.csv\",\n",
    "           \"/kaggle/working/data_ad.csv\"]\n",
    "\n",
    "models = [LogisticRegression(),DecisionTreeClassifier(),RandomForestClassifier(),\n",
    "         SVC(),GradientBoostingClassifier()]\n",
    "\n",
    "sampling = ['RandomUnderSampler','RandomOverSampler','SMOTE','BorderlineSMOTE','NearMiss']\n",
    "\n",
    "results = []\n",
    "\n",
    "for dataset,sampling_technique in zip(datasets,sampling):\n",
    "    df = pd.read_csv(dataset)\n",
    "    X = df.drop(\"Class\",axis = 1)\n",
    "    y = df[\"Class\"]\n",
    "    \n",
    "    for model,model_name in zip(models,['LogisticRegression', 'DecisionTreeClassifier', 'RandomForestClassifier', 'SVC', 'GradientBoostingClassifier']):\n",
    "        X_train,X_test,Y_train,Y_test = train_test_split(X,y,test_size = 0.2,random_state = 42)\n",
    "        model.fit(X_train,Y_train)\n",
    "        y_pred = model.predict(X_test)\n",
    "        accuracy = accuracy_score(Y_test,y_pred)\n",
    "        results.append({'Sampling':sampling_technique,'Classifier':model_name,'Accuracy':accuracy})\n",
    "        \n",
    "results_df = pd.DataFrame(results)\n",
    "results_df.head()"
   ]
  },
  {
   "cell_type": "code",
   "execution_count": 9,
   "id": "c60ef530",
   "metadata": {
    "execution": {
     "iopub.execute_input": "2024-01-31T14:49:54.290821Z",
     "iopub.status.busy": "2024-01-31T14:49:54.290472Z",
     "iopub.status.idle": "2024-01-31T14:49:54.309346Z",
     "shell.execute_reply": "2024-01-31T14:49:54.308440Z"
    },
    "papermill": {
     "duration": 0.026276,
     "end_time": "2024-01-31T14:49:54.311573",
     "exception": false,
     "start_time": "2024-01-31T14:49:54.285297",
     "status": "completed"
    },
    "tags": []
   },
   "outputs": [],
   "source": [
    "pivot_df = results_df.pivot_table(index='Classifier', columns='Sampling', values='Accuracy')\n",
    "pivot_df.to_csv('pivoted_classifier_results.csv')"
   ]
  },
  {
   "cell_type": "code",
   "execution_count": 10,
   "id": "70989fb1",
   "metadata": {
    "execution": {
     "iopub.execute_input": "2024-01-31T14:49:54.321393Z",
     "iopub.status.busy": "2024-01-31T14:49:54.321050Z",
     "iopub.status.idle": "2024-01-31T14:49:54.333040Z",
     "shell.execute_reply": "2024-01-31T14:49:54.332020Z"
    },
    "papermill": {
     "duration": 0.019704,
     "end_time": "2024-01-31T14:49:54.335531",
     "exception": false,
     "start_time": "2024-01-31T14:49:54.315827",
     "status": "completed"
    },
    "tags": []
   },
   "outputs": [
    {
     "data": {
      "text/html": [
       "<div>\n",
       "<style scoped>\n",
       "    .dataframe tbody tr th:only-of-type {\n",
       "        vertical-align: middle;\n",
       "    }\n",
       "\n",
       "    .dataframe tbody tr th {\n",
       "        vertical-align: top;\n",
       "    }\n",
       "\n",
       "    .dataframe thead th {\n",
       "        text-align: right;\n",
       "    }\n",
       "</style>\n",
       "<table border=\"1\" class=\"dataframe\">\n",
       "  <thead>\n",
       "    <tr style=\"text-align: right;\">\n",
       "      <th>Sampling</th>\n",
       "      <th>BorderlineSMOTE</th>\n",
       "      <th>NearMiss</th>\n",
       "      <th>RandomOverSampler</th>\n",
       "      <th>RandomUnderSampler</th>\n",
       "      <th>SMOTE</th>\n",
       "    </tr>\n",
       "    <tr>\n",
       "      <th>Classifier</th>\n",
       "      <th></th>\n",
       "      <th></th>\n",
       "      <th></th>\n",
       "      <th></th>\n",
       "      <th></th>\n",
       "    </tr>\n",
       "  </thead>\n",
       "  <tbody>\n",
       "    <tr>\n",
       "      <th>DecisionTreeClassifier</th>\n",
       "      <td>0.983660</td>\n",
       "      <td>0.973856</td>\n",
       "      <td>0.75</td>\n",
       "      <td>0.993464</td>\n",
       "      <td>0.977124</td>\n",
       "    </tr>\n",
       "    <tr>\n",
       "      <th>GradientBoostingClassifier</th>\n",
       "      <td>0.993464</td>\n",
       "      <td>0.983660</td>\n",
       "      <td>0.75</td>\n",
       "      <td>1.000000</td>\n",
       "      <td>0.990196</td>\n",
       "    </tr>\n",
       "    <tr>\n",
       "      <th>LogisticRegression</th>\n",
       "      <td>0.986928</td>\n",
       "      <td>0.924837</td>\n",
       "      <td>0.25</td>\n",
       "      <td>0.918301</td>\n",
       "      <td>0.911765</td>\n",
       "    </tr>\n",
       "    <tr>\n",
       "      <th>RandomForestClassifier</th>\n",
       "      <td>1.000000</td>\n",
       "      <td>0.990196</td>\n",
       "      <td>0.00</td>\n",
       "      <td>1.000000</td>\n",
       "      <td>0.993464</td>\n",
       "    </tr>\n",
       "    <tr>\n",
       "      <th>SVC</th>\n",
       "      <td>0.836601</td>\n",
       "      <td>0.669935</td>\n",
       "      <td>0.00</td>\n",
       "      <td>0.669935</td>\n",
       "      <td>0.686275</td>\n",
       "    </tr>\n",
       "  </tbody>\n",
       "</table>\n",
       "</div>"
      ],
      "text/plain": [
       "Sampling                    BorderlineSMOTE  NearMiss  RandomOverSampler  \\\n",
       "Classifier                                                                 \n",
       "DecisionTreeClassifier             0.983660  0.973856               0.75   \n",
       "GradientBoostingClassifier         0.993464  0.983660               0.75   \n",
       "LogisticRegression                 0.986928  0.924837               0.25   \n",
       "RandomForestClassifier             1.000000  0.990196               0.00   \n",
       "SVC                                0.836601  0.669935               0.00   \n",
       "\n",
       "Sampling                    RandomUnderSampler     SMOTE  \n",
       "Classifier                                                \n",
       "DecisionTreeClassifier                0.993464  0.977124  \n",
       "GradientBoostingClassifier            1.000000  0.990196  \n",
       "LogisticRegression                    0.918301  0.911765  \n",
       "RandomForestClassifier                1.000000  0.993464  \n",
       "SVC                                   0.669935  0.686275  "
      ]
     },
     "execution_count": 10,
     "metadata": {},
     "output_type": "execute_result"
    }
   ],
   "source": [
    "pivot_df.head()"
   ]
  }
 ],
 "metadata": {
  "kaggle": {
   "accelerator": "none",
   "dataSources": [
    {
     "datasetId": 4374695,
     "sourceId": 7511175,
     "sourceType": "datasetVersion"
    }
   ],
   "dockerImageVersionId": 30646,
   "isGpuEnabled": false,
   "isInternetEnabled": true,
   "language": "python",
   "sourceType": "notebook"
  },
  "kernelspec": {
   "display_name": "Python 3",
   "language": "python",
   "name": "python3"
  },
  "language_info": {
   "codemirror_mode": {
    "name": "ipython",
    "version": 3
   },
   "file_extension": ".py",
   "mimetype": "text/x-python",
   "name": "python",
   "nbconvert_exporter": "python",
   "pygments_lexer": "ipython3",
   "version": "3.10.13"
  },
  "papermill": {
   "default_parameters": {},
   "duration": 14.703834,
   "end_time": "2024-01-31T14:49:54.959799",
   "environment_variables": {},
   "exception": null,
   "input_path": "__notebook__.ipynb",
   "output_path": "__notebook__.ipynb",
   "parameters": {},
   "start_time": "2024-01-31T14:49:40.255965",
   "version": "2.5.0"
  }
 },
 "nbformat": 4,
 "nbformat_minor": 5
}
